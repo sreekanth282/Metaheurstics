{
 "cells": [
  {
   "cell_type": "code",
   "execution_count": 5,
   "metadata": {},
   "outputs": [],
   "source": [
    "%matplotlib inline\n",
    "import numpy as np\n",
    "from scipy.optimize import minimize\n",
    "import matplotlib.pyplot as plt"
   ]
  },
  {
   "cell_type": "code",
   "execution_count": 38,
   "metadata": {},
   "outputs": [
    {
     "name": "stdout",
     "output_type": "stream",
     "text": [
      "[-3  5  3]\n",
      "Warning: Maximum number of function evaluations has been exceeded.\n",
      "[-3.  5.  3.]\n",
      "[-4  7  1 -6 -9 -1 -9  5  7  1  0]\n",
      "Warning: Maximum number of function evaluations has been exceeded.\n",
      "[-4.  7.  1. -6. -9. -1. -9.  5.  7.  1.  0.]\n",
      "[ 9 -5 -4 ...  1  2 -5]\n",
      "Warning: Maximum number of function evaluations has been exceeded.\n",
      "[ 9. -5. -4. ...  1.  2. -5.]\n"
     ]
    }
   ],
   "source": [
    "def simplex_optimization2(x):\n",
    "    return sum(x[:-1]**2.0)\n",
    "for d in [2,10,1000] :\n",
    "    x0 = np.random.randint(-10, high = 10, size = d + 1)\n",
    "    print(x0)\n",
    "    res = minimize(simplex_optimization2, x0, method='nelder-mead', options={'xatol': 1e-4, 'disp': True, 'maxfev' : d})\n",
    "    print(res.x)"
   ]
  },
  {
   "cell_type": "code",
   "execution_count": 39,
   "metadata": {},
   "outputs": [
    {
     "name": "stdout",
     "output_type": "stream",
     "text": [
      "Warning: Maximum number of function evaluations has been exceeded.\n",
      "[-3.    1.05  4.  ]\n",
      "Warning: Maximum number of function evaluations has been exceeded.\n",
      "[ 5.   2.1  6.   4.   2.   6.  -1.  -2.   2.   0.  -1. ]\n",
      "Warning: Maximum number of function evaluations has been exceeded.\n",
      "[ 5. -1.  1. ...  1. -2.  0.]\n"
     ]
    }
   ],
   "source": [
    "def simplex_optimization2(x):\n",
    "    return sum(100.0*(x[1:]-x[:-1]**2.0)**2.0 + (x[:-1] - 1)**2.0)\n",
    "for d in [2,10,1000] :\n",
    "    x0 = np.random.randint(-5, high = 10, size = d + 1)\n",
    "    res = minimize(simplex_optimization2, x0, method='nelder-mead', options={'xatol': 1e-4, 'disp': True, 'maxfev' : d - 1})\n",
    "    print(res.x)\n",
    "    "
   ]
  },
  {
   "cell_type": "code",
   "execution_count": null,
   "metadata": {},
   "outputs": [],
   "source": []
  }
 ],
 "metadata": {
  "kernelspec": {
   "display_name": "Python 3",
   "language": "python",
   "name": "python3"
  },
  "language_info": {
   "codemirror_mode": {
    "name": "ipython",
    "version": 3
   },
   "file_extension": ".py",
   "mimetype": "text/x-python",
   "name": "python",
   "nbconvert_exporter": "python",
   "pygments_lexer": "ipython3",
   "version": "3.7.5"
  }
 },
 "nbformat": 4,
 "nbformat_minor": 4
}
