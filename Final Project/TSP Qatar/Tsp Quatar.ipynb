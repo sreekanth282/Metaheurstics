{
 "cells": [
  {
   "cell_type": "code",
   "execution_count": 1,
   "metadata": {},
   "outputs": [],
   "source": [
    "from jmetal.algorithm.singleobjective.genetic_algorithm import GeneticAlgorithm\n",
    "from jmetal.algorithm.multiobjective.nsgaii import NSGAII\n",
    "from jmetal.algorithm.singleobjective.local_search import LocalSearch\n",
    "from jmetal.algorithm.singleobjective.simulated_annealing import SimulatedAnnealing\n",
    "from jmetal.operator import BinaryTournamentSelection\n",
    "from jmetal.operator.crossover import PMXCrossover, SBXCrossover, SPXCrossover, CXCrossover, DifferentialEvolutionCrossover\n",
    "from jmetal.operator.mutation import PermutationSwapMutation, PolynomialMutation, NonUniformMutation, UniformMutation, SimpleRandomMutation\n",
    "# from jmetal.problem.singleobjective.tsp import TSP\n",
    "from jmetal.util.comparator import MultiComparator\n",
    "from jmetal.util.density_estimator import CrowdingDistance\n",
    "from jmetal.util.ranking import FastNonDominatedRanking\n",
    "from jmetal.util.termination_criterion import StoppingByEvaluations\n",
    "from jmetal.util.solution import get_non_dominated_solutions\n",
    "from jmetal.core.problem import PermutationProblem\n",
    "from jmetal.core.solution import PermutationSolution\n",
    "import math\n",
    "import random\n",
    "import re\n",
    "import tsplib95\n"
   ]
  },
  {
   "cell_type": "code",
   "execution_count": 7,
   "metadata": {},
   "outputs": [],
   "source": [
    "class TSP(PermutationProblem):\n",
    "    \"\"\" Class representing TSP Problem. \"\"\"\n",
    "\n",
    "    def __init__(self, instance: str = None):\n",
    "        super(TSP, self).__init__()\n",
    "        distance_matrix, number_of_cities = self.__read_from_file(instance)\n",
    "        self.distance_matrix = distance_matrix\n",
    "        self.obj_directions = [self.MINIMIZE]\n",
    "        self.number_of_variables = number_of_cities\n",
    "        self.number_of_objectives = 1\n",
    "        self.number_of_constraints = 0\n",
    "\n",
    " \n",
    "\n",
    "    def __read_from_file(self, filename: str):\n",
    "        if filename is None:\n",
    "            raise FileNotFoundError('Filename can not be None')\n",
    "        with open(filename) as file:\n",
    "            lines = file.readlines()\n",
    "            data = [line.lstrip() for line in lines if line != \"\"]\n",
    "            dimension = re.compile(r'[^\\d]+')\n",
    "            for item in data:\n",
    "                if item.startswith('DIMENSION'):\n",
    "                    dimension = int(dimension.sub('', item))\n",
    "                    break\n",
    "            c = [-1.0] * (2 * dimension)\n",
    "            for item in data:\n",
    "                if item[0].isdigit():\n",
    "                    j, city_a, city_b = [float(x.strip()) for x in item.split(' ')]\n",
    "                    j = int(j)\n",
    "                    c[2 * (j - 1)] = city_a\n",
    "                    c[2 * (j - 1) + 1] = city_b\n",
    "            matrix = [[-1] * dimension for _ in range(dimension)]\n",
    "            for k in range(dimension):\n",
    "                matrix[k][k] = 0\n",
    "                for j in range(k + 1, dimension):\n",
    "                    dist = math.sqrt((c[k * 2] - c[j * 2]) ** 2 + (c[k * 2 + 1] - c[j * 2 + 1]) ** 2)\n",
    "#                     dist = round(dist)\n",
    "                    matrix[k][j] = dist\n",
    "                    matrix[j][k] = dist\n",
    "            return matrix, dimension\n",
    "\n",
    "    def evaluate(self, solution: PermutationSolution) -> PermutationSolution:\n",
    "        fitness = 0\n",
    "        for i in range(self.number_of_variables - 1):\n",
    "            x = solution.variables[i]\n",
    "            y = solution.variables[i + 1]\n",
    "            fitness += self.distance_matrix[x][y]\n",
    "        first_city, last_city = solution.variables[0], solution.variables[-1]\n",
    "        fitness += self.distance_matrix[first_city][last_city]\n",
    "        solution.objectives[0] = fitness\n",
    "        return solution\n",
    "\n",
    "    def create_solution(self) -> PermutationSolution:\n",
    "        new_solution = PermutationSolution(number_of_variables=self.number_of_variables,\n",
    "                                           number_of_objectives=self.number_of_objectives)\n",
    "        new_solution.variables = random.sample(range(self.number_of_variables), k=self.number_of_variables)\n",
    "        return new_solution\n",
    "    \n",
    "    @property\n",
    "    def number_of_cities(self):\n",
    "        return self.number_of_variables\n",
    "\n",
    "    def get_name(self):\n",
    "        return 'Symmetric TSP'"
   ]
  },
  {
   "cell_type": "code",
   "execution_count": 8,
   "metadata": {},
   "outputs": [
    {
     "name": "stderr",
     "output_type": "stream",
     "text": [
      "C:\\Users\\sreekanth\\Anaconda3\\envs\\sreekanth\\lib\\site-packages\\ipykernel_launcher.py:1: DeprecationWarning: Call to deprecated function (or staticmethod) load_problem. (Will be removed in newer versions. Use `tsplib95.load` instead.) -- Deprecated since version 7.0.0.\n",
      "  \"\"\"Entry point for launching an IPython kernel.\n"
     ]
    },
    {
     "name": "stdout",
     "output_type": "stream",
     "text": [
      "Cities:  194\n",
      "Algorithm: Genetic algorithm\n",
      "Problem: Symmetric TSP\n",
      "Solution: [99, 80, 2, 1, 3, 6, 36, 67, 82, 94, 91, 96, 87, 73, 24, 15, 12, 13, 16, 23, 105, 151, 164, 148, 145, 149, 157, 158, 150, 147, 130, 135, 176, 180, 184, 179, 169, 166, 161, 132, 127, 142, 154, 174, 185, 182, 156, 121, 101, 102, 95, 78, 76, 57, 47, 52, 66, 72, 159, 165, 137, 110, 84, 64, 97, 153, 152, 146, 134, 123, 122, 119, 111, 109, 116, 120, 128, 143, 138, 141, 118, 77, 75, 79, 70, 22, 74, 92, 104, 106, 107, 114, 115, 140, 183, 191, 189, 193, 181, 178, 163, 103, 35, 58, 61, 19, 7, 10, 50, 55, 51, 53, 29, 9, 4, 8, 11, 14, 18, 49, 54, 83, 170, 192, 188, 186, 190, 187, 177, 167, 172, 173, 171, 175, 160, 124, 113, 108, 112, 125, 136, 133, 131, 126, 86, 71, 68, 25, 20, 59, 56, 65, 44, 27, 32, 28, 38, 46, 42, 40, 31, 34, 41, 48, 39, 33, 26, 63, 90, 129, 139, 144, 162, 168, 155, 85, 62, 0, 5, 17, 21, 30, 37, 45, 43, 60, 69, 81, 98, 88, 89, 93, 100, 117]\n",
      "Fitness: 23556.618217933523\n",
      "Computing time: 67.5678961277008\n"
     ]
    }
   ],
   "source": [
    "fitness = 0\n",
    "data = tsplib95.load_problem('./Data/qa194.tsp')\n",
    "problem = TSP(instance='./Data/qa194.tsp')\n",
    "\n",
    "print('Cities: ', problem.number_of_variables)\n",
    "\n",
    "algorithm = GeneticAlgorithm(\n",
    "    problem=problem,\n",
    "    population_size=50,\n",
    "    offspring_population_size=50,\n",
    "    mutation=PermutationSwapMutation(0.30),\n",
    "    crossover=PMXCrossover(0.50),\n",
    "    selection=BinaryTournamentSelection(\n",
    "        MultiComparator([FastNonDominatedRanking.get_comparator(),\n",
    "                         CrowdingDistance.get_comparator()])),\n",
    "    termination_criterion=StoppingByEvaluations(max_evaluations=100000)\n",
    ")\n",
    "algorithm.run()\n",
    "result = algorithm.get_result()\n",
    "\n",
    "print('Algorithm: {}'.format(algorithm.get_name()))\n",
    "print('Problem: {}'.format(problem.get_name()))\n",
    "print('Solution: {}'.format(result.variables))\n",
    "print('Fitness: {}'.format(result.objectives[0]))\n",
    "print('Computing time: {}'.format(algorithm.total_computing_time))"
   ]
  },
  {
   "cell_type": "code",
   "execution_count": null,
   "metadata": {},
   "outputs": [],
   "source": []
  }
 ],
 "metadata": {
  "kernelspec": {
   "display_name": "Python 3",
   "language": "python",
   "name": "python3"
  },
  "language_info": {
   "codemirror_mode": {
    "name": "ipython",
    "version": 3
   },
   "file_extension": ".py",
   "mimetype": "text/x-python",
   "name": "python",
   "nbconvert_exporter": "python",
   "pygments_lexer": "ipython3",
   "version": "3.7.6"
  }
 },
 "nbformat": 4,
 "nbformat_minor": 4
}
